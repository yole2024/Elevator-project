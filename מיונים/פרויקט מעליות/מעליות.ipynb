{
 "cells": [
  {
   "cell_type": "code",
   "execution_count": 2,
   "metadata": {},
   "outputs": [],
   "source": [
    "import pygame\n"
   ]
  },
  {
   "cell_type": "code",
   "execution_count": 7,
   "metadata": {},
   "outputs": [],
   "source": [
    "\n",
    "\n",
    "class building:\n",
    "    def __init__(self, floors, elevators):\n",
    "        self.floors = [floor() for i in range(NUM_FLOORS)]\n",
    "        self.elevators = [elevator() for i in range (NOM_ELEVATORS)]\n",
    "\n",
    "        \n",
    "    def select_best_elevator(elevators, request_floor):\n",
    "        best_elevator = None\n",
    "        minimum_time = float('inf')\n",
    "        for elevator in elevators:\n",
    "            time_to_free = elevator.get_time_to_free()\n",
    "            final_floor = elevator.get_final_floor()\n",
    "            travel_time = elevator.calculate_travel_time(final_floor, request_floor)\n",
    "            total_time = time_to_free + travel_time\n",
    "\n",
    "            if total_time < minimum_time:\n",
    "                minimum_time = total_time\n",
    "                best_elevator = elevator\n",
    "            \n",
    "        return best_elevator\n"
   ]
  },
  {
   "cell_type": "code",
   "execution_count": 3,
   "metadata": {},
   "outputs": [],
   "source": [
    "def elavator_state (elevators):\n",
    "    pass\n",
    "class elevators:\n",
    "    def __init__(self,curent_floor = 0 ):\n",
    "        self.curent_floor = curent_floor \n",
    "        self.destination_floor = None\n",
    "        self.state = elavator_state.IDLE\n",
    "    turn = []\n",
    "    \n",
    "    def updating():\n",
    "        pass\n",
    "\n",
    "    def get_time_to_free():\n",
    "        pass\n",
    "\n",
    "    def get_final_floor():\n",
    "        pass\n",
    "\n",
    "    def calculate_travel_time(self, current_floor, target_floor):\n",
    "        return abs(target_floor - current_floor) *0.5\n",
    "    \n",
    "    def select_best_elevator(elevators, request_floor):\n",
    "        best_elevator = None\n",
    "        minimum_time = float('inf')\n",
    "        for elevator in elevators:\n",
    "            time_to_free = elevator.get_time_to_free()\n",
    "            final_floor = elevator.get_final_floor()\n",
    "            travel_time = elevator.calculate_travel_time(final_floor, request_floor)\n",
    "            total_time = time_to_free + travel_time\n",
    "\n",
    "            if total_time < minimum_time:\n",
    "                minimum_time = total_time\n",
    "                best_elevator = elevator\n",
    "            \n",
    "        return best_elevator\n",
    "\n",
    "\n",
    "\n",
    "    "
   ]
  },
  {
   "cell_type": "code",
   "execution_count": null,
   "metadata": {},
   "outputs": [],
   "source": [
    "class floors:\n",
    "    def __init__(self) -> None:\n",
    "        pass"
   ]
  },
  {
   "cell_type": "code",
   "execution_count": 10,
   "metadata": {},
   "outputs": [
    {
     "name": "stdout",
     "output_type": "stream",
     "text": [
      "8\n"
     ]
    }
   ],
   "source": [
    "from collections import deque\n",
    "\n",
    "\n",
    "queue = deque()\n",
    "\n",
    "queue.append(1)\n",
    "queue.append(2)\n",
    "queue.append(3)\n",
    "queue.append(5)\n",
    "queue.append(4)\n",
    "queue.append(8)\n",
    "print(queue[-1]) \n"
   ]
  },
  {
   "cell_type": "code",
   "execution_count": null,
   "metadata": {},
   "outputs": [],
   "source": []
  },
  {
   "cell_type": "code",
   "execution_count": 2,
   "metadata": {},
   "outputs": [],
   "source": [
    "def calculate_time(current_floor, target_floor, SPEED_PER_FLOOR, STOP_TIME):\n",
    "    distance = abs(target_floor - current_floor)\n",
    "    travel_time = distance * SPEED_PER_FLOOR\n",
    "    total_time = travel_time + STOP_TIME\n",
    "    return total_time\n",
    "def calculate_times_for_all(current_floor, target_floors, SPEED_PER_FLOOR, STOP_TIME):\n",
    "    times = []\n",
    "    for target_floor in target_floors:\n",
    "        time = calculate_time(current_floor, target_floor, SPEED_PER_FLOOR, STOP_TIME)\n",
    "        times.append(time)\n",
    "    return times\n",
    "\n",
    "        def calculate_travel_time(self, current_floor, target_floor):\n",
    "            return abs(target_floor - current_floor) *SPEED_PER_FLOOR"
   ]
  },
  {
   "cell_type": "code",
   "execution_count": null,
   "metadata": {},
   "outputs": [],
   "source": []
  },
  {
   "cell_type": "code",
   "execution_count": 4,
   "metadata": {},
   "outputs": [
    {
     "ename": "SystemExit",
     "evalue": "",
     "output_type": "error",
     "traceback": [
      "An exception has occurred, use %tb to see the full traceback.\n",
      "\u001b[0;31mSystemExit\u001b[0m\n"
     ]
    }
   ],
   "source": [
    "import pygame\n",
    "import sys\n",
    "\n",
    "# Initialize Pygame\n",
    "pygame.init()\n",
    "\n",
    "# Set up the display\n",
    "width, height = 800, 600\n",
    "window = pygame.display.set_mode((width, height))\n",
    "pygame.display.set_caption('Pygame Example')\n",
    "\n",
    "# Main loop\n",
    "running = True\n",
    "while running:\n",
    "    for event in pygame.event.get():\n",
    "        if event.type == pygame.QUIT:\n",
    "            running = False\n",
    "\n",
    "    # Fill the screen with a color (R, G, B)\n",
    "    window.fill((0, 128, 255))\n",
    "    \n",
    "    # Update the display\n",
    "    pygame.display.flip()\n",
    "\n",
    "# Quit Pygame\n",
    "pygame.quit()\n",
    "sys.exit()\n"
   ]
  },
  {
   "cell_type": "code",
   "execution_count": 7,
   "metadata": {},
   "outputs": [
    {
     "ename": "KeyboardInterrupt",
     "evalue": "",
     "output_type": "error",
     "traceback": [
      "\u001b[0;31m---------------------------------------------------------------------------\u001b[0m",
      "\u001b[0;31mKeyboardInterrupt\u001b[0m                         Traceback (most recent call last)",
      "Cell \u001b[0;32mIn[7], line 56\u001b[0m\n\u001b[1;32m     53\u001b[0m current_floor \u001b[38;5;241m=\u001b[39m target_floor\n\u001b[1;32m     55\u001b[0m \u001b[38;5;66;03m# Draw everything\u001b[39;00m\n\u001b[0;32m---> 56\u001b[0m \u001b[43mwindow\u001b[49m\u001b[38;5;241;43m.\u001b[39;49m\u001b[43mfill\u001b[49m\u001b[43m(\u001b[49m\u001b[43mWHITE\u001b[49m\u001b[43m)\u001b[49m\n\u001b[1;32m     58\u001b[0m \u001b[38;5;66;03m# Draw floors\u001b[39;00m\n\u001b[1;32m     59\u001b[0m \u001b[38;5;28;01mfor\u001b[39;00m i \u001b[38;5;129;01min\u001b[39;00m \u001b[38;5;28mrange\u001b[39m(\u001b[38;5;241m6\u001b[39m):\n",
      "\u001b[0;31mKeyboardInterrupt\u001b[0m: "
     ]
    },
    {
     "ename": "",
     "evalue": "",
     "output_type": "error",
     "traceback": [
      "\u001b[1;31mThe Kernel crashed while executing code in the current cell or a previous cell. \n",
      "\u001b[1;31mPlease review the code in the cell(s) to identify a possible cause of the failure. \n",
      "\u001b[1;31mClick <a href='https://aka.ms/vscodeJupyterKernelCrash'>here</a> for more info. \n",
      "\u001b[1;31mView Jupyter <a href='command:jupyter.viewOutput'>log</a> for further details."
     ]
    }
   ],
   "source": [
    "import pygame\n",
    "import sys\n",
    "\n",
    "# Initialize Pygame\n",
    "pygame.init()\n",
    "\n",
    "# Constants\n",
    "WIDTH, HEIGHT = 400, 600\n",
    "FLOOR_HEIGHT = 100\n",
    "ELEVATOR_WIDTH, ELEVATOR_HEIGHT = 50, 90\n",
    "SPEED = 5\n",
    "\n",
    "# Colors\n",
    "WHITE = (255, 255, 255)\n",
    "GRAY = (200, 200, 200)\n",
    "BLACK = (0, 0, 0)\n",
    "\n",
    "# Set up the display\n",
    "window = pygame.display.set_mode((WIDTH, HEIGHT))\n",
    "pygame.display.set_caption('Elevator System')\n",
    "\n",
    "# Elevator initial position\n",
    "elevator_x = WIDTH // 2 - ELEVATOR_WIDTH // 2\n",
    "elevator_y = HEIGHT - FLOOR_HEIGHT - ELEVATOR_HEIGHT\n",
    "\n",
    "# Main loop\n",
    "running = True\n",
    "target_floor = 0\n",
    "current_floor = 0\n",
    "\n",
    "while running:\n",
    "    for event in pygame.event.get():\n",
    "        if event.type == pygame.QUIT:\n",
    "            running = False\n",
    "        elif event.type == pygame.KEYDOWN:\n",
    "            if event.key == pygame.K_UP and current_floor < 5:\n",
    "                target_floor += 1\n",
    "            elif event.key == pygame.K_DOWN and current_floor > 0:\n",
    "                target_floor -= 1\n",
    "\n",
    "    # Move elevator towards target floor\n",
    "    target_y = HEIGHT - FLOOR_HEIGHT * (target_floor + 1) - ELEVATOR_HEIGHT\n",
    "    if elevator_y < target_y:\n",
    "        elevator_y += SPEED\n",
    "        if elevator_y > target_y:\n",
    "            elevator_y = target_y\n",
    "    elif elevator_y > target_y:\n",
    "        elevator_y -= SPEED\n",
    "        if elevator_y < target_y:\n",
    "            elevator_y = target_y\n",
    "\n",
    "    # Update current floor\n",
    "    current_floor = target_floor\n",
    "\n",
    "    # Draw everything\n",
    "    window.fill(WHITE)\n",
    "\n",
    "    # Draw floors\n",
    "    for i in range(6):\n",
    "        pygame.draw.line(window, GRAY, (0, HEIGHT - FLOOR_HEIGHT * (i + 1)), (WIDTH, HEIGHT - FLOOR_HEIGHT * (i + 1)), 2)\n",
    "\n",
    "    # Draw elevator\n",
    "    pygame.draw.rect(window, BLACK, (elevator_x, elevator_y, ELEVATOR_WIDTH, ELEVATOR_HEIGHT))\n",
    "\n",
    "    pygame.display.flip()\n",
    "\n",
    "pygame.quit()\n",
    "sys.exit()\n"
   ]
  },
  {
   "cell_type": "code",
   "execution_count": 1,
   "metadata": {},
   "outputs": [
    {
     "name": "stdout",
     "output_type": "stream",
     "text": [
      "pygame 2.5.2 (SDL 2.28.2, Python 3.10.12)\n",
      "Hello from the pygame community. https://www.pygame.org/contribute.html\n"
     ]
    },
    {
     "ename": "FileNotFoundError",
     "evalue": "No file 'WhatsApp Image 2024-06-02 at 12.15.10.jpeg' found in working directory '/home/mefathim89/python/מיונים/פרויקט מעליות'.",
     "output_type": "error",
     "traceback": [
      "\u001b[0;31m---------------------------------------------------------------------------\u001b[0m",
      "\u001b[0;31mFileNotFoundError\u001b[0m                         Traceback (most recent call last)",
      "Cell \u001b[0;32mIn[1], line 33\u001b[0m\n\u001b[1;32m     30\u001b[0m pygame\u001b[38;5;241m.\u001b[39mdraw\u001b[38;5;241m.\u001b[39mrect(screen,black , pygame\u001b[38;5;241m.\u001b[39mRect(\u001b[38;5;241m1\u001b[39m, \u001b[38;5;241m1\u001b[39m, \u001b[38;5;241m150\u001b[39m, \u001b[38;5;241m60\u001b[39m),  \u001b[38;5;241m2\u001b[39m)\n\u001b[1;32m     31\u001b[0m pygame\u001b[38;5;241m.\u001b[39mdisplay\u001b[38;5;241m.\u001b[39mflip()\n\u001b[0;32m---> 33\u001b[0m img \u001b[38;5;241m=\u001b[39m \u001b[43mpygame\u001b[49m\u001b[38;5;241;43m.\u001b[39;49m\u001b[43mimage\u001b[49m\u001b[38;5;241;43m.\u001b[39;49m\u001b[43mload\u001b[49m\u001b[43m(\u001b[49m\u001b[43mIMAGE\u001b[49m\u001b[43m)\u001b[49m\n\u001b[1;32m     34\u001b[0m screen\u001b[38;5;241m.\u001b[39mblit(img ,(\u001b[38;5;241m0\u001b[39m,\u001b[38;5;241m0\u001b[39m))\n\u001b[1;32m     35\u001b[0m player_image \u001b[38;5;241m=\u001b[39m pygame\u001b[38;5;241m.\u001b[39mimage\u001b[38;5;241m.\u001b[39mload(\u001b[38;5;124m'\u001b[39m\u001b[38;5;124mplane.png\u001b[39m\u001b[38;5;124m'\u001b[39m)\u001b[38;5;241m.\u001b[39mconvert()\n",
      "\u001b[0;31mFileNotFoundError\u001b[0m: No file 'WhatsApp Image 2024-06-02 at 12.15.10.jpeg' found in working directory '/home/mefathim89/python/מיונים/פרויקט מעליות'."
     ]
    },
    {
     "ename": "",
     "evalue": "",
     "output_type": "error",
     "traceback": [
      "\u001b[1;31mThe Kernel crashed while executing code in the current cell or a previous cell. \n",
      "\u001b[1;31mPlease review the code in the cell(s) to identify a possible cause of the failure. \n",
      "\u001b[1;31mClick <a href='https://aka.ms/vscodeJupyterKernelCrash'>here</a> for more info. \n",
      "\u001b[1;31mView Jupyter <a href='command:jupyter.viewOutput'>log</a> for further details."
     ]
    }
   ],
   "source": [
    "import pygame\n",
    "import setings\n",
    "WIDTH = 500\n",
    "HEIGHT= 700\n",
    "FLOOR_HEIGHT = 50\n",
    "ELEVATOR_HEIGHT = 50\n",
    "SPEED = 0.5\n",
    "STOP_TIME = 2\n",
    "ELEVATOR_WIDTH = 50\n",
    "background_color = (99,235, 225)\n",
    "black = (0,0,0)\n",
    "IMAGE = 'WhatsApp Image 2024-06-02 at 12.15.10.jpeg'\n",
    "\n",
    "\n",
    "\n",
    "\n",
    "\n",
    "\n",
    "\n",
    "pygame.init()\n",
    "size = (WIDTH,HEIGHT )\n",
    "screen = pygame.display.set_mode(size)\n",
    "pygame.display.set_caption(\"building\")\n",
    "\n",
    "\n",
    "\n",
    "screen.fill(background_color )\n",
    "pygame.display.flip()\n",
    "\n",
    "pygame.draw.rect(screen,black , pygame.Rect(1, 1, 150, 60),  2)\n",
    "pygame.display.flip()\n",
    "\n",
    "img = pygame.image.load(IMAGE)\n",
    "screen.blit(img ,(0,0))\n",
    "player_image = pygame.image.load('plane.png').convert()\n",
    "screen.blit(player_image,[2,2])\n",
    "pygame.display.flip()\n",
    "\n",
    "\n",
    "\n",
    "finish = False\n",
    "while not finish:\n",
    "    for event in pygame.event.get():\n",
    "        if event.type == pygame.QUIT:\n",
    "            finish = True\n"
   ]
  },
  {
   "cell_type": "code",
   "execution_count": 5,
   "metadata": {},
   "outputs": [
    {
     "name": "stdout",
     "output_type": "stream",
     "text": [
      "00:00\n"
     ]
    }
   ],
   "source": [
    "import pygame\n",
    "import sys\n",
    "\n",
    "# Initialize Pygame\n",
    "pygame.init()\n",
    "\n",
    "# Constants\n",
    "WIDTH, HEIGHT = 400, 600\n",
    "FLOOR_HEIGHT = 100\n",
    "ELEVATOR_WIDTH, ELEVATOR_HEIGHT = 50, 90\n",
    "SPEED = 2\n",
    "NUM_FLOORS = 6\n",
    "STOP_TIME = 5  # Time in seconds the elevator stops at each floor\n",
    "\n",
    "# Colors\n",
    "WHITE = (255, 255, 255)\n",
    "GRAY = (200, 200, 200)\n",
    "BLACK = (0, 0, 0)\n",
    "RED = (255, 0, 0)\n",
    "\n",
    "# Set up the display\n",
    "window = pygame.display.set_mode((WIDTH, HEIGHT))\n",
    "pygame.display.set_caption('Elevator System')\n",
    "\n",
    "# Elevator class\n",
    "class Elevator:\n",
    "    def __init__(self, x, y):\n",
    "        self.x = x\n",
    "        self.y = y\n",
    "        self.target_floors = []\n",
    "        self.current_target = None\n",
    "        self.moving = False\n",
    "        self.direction = 0\n",
    "        self.stop_counter = 0\n",
    "\n",
    "    def add_target_floor(self, floor):\n",
    "        self.target_floors.append(floor)\n",
    "        if not self.moving:\n",
    "            self.current_target = self.target_floors.pop(0)\n",
    "            self.moving = True\n",
    "\n",
    "    def update(self):\n",
    "        if self.moving:\n",
    "            if self.y > self.current_target * FLOOR_HEIGHT + ELEVATOR_HEIGHT:\n",
    "                self.y -= SPEED\n",
    "                self.direction = -1\n",
    "            elif self.y < self.current_target * FLOOR_HEIGHT + ELEVATOR_HEIGHT:\n",
    "                self.y += SPEED\n",
    "                self.direction = 1\n",
    "            else:\n",
    "                self.stop_counter += 1\n",
    "                if self.stop_counter > STOP_TIME * 60:  # Converting seconds to frames\n",
    "                    self.stop_counter = 0\n",
    "                    if self.target_floors:\n",
    "                        self.current_target = self.target_floors.pop(0)\n",
    "                    else:\n",
    "                        self.moving = False\n",
    "\n",
    "    def draw(self, surface):\n",
    "        pygame.draw.rect(surface, BLACK, (self.x, self.y, ELEVATOR_WIDTH, ELEVATOR_HEIGHT))\n",
    "\n",
    "# Create an elevator\n",
    "elevator = Elevator(WIDTH // 2 - ELEVATOR_WIDTH // 2, HEIGHT - FLOOR_HEIGHT - ELEVATOR_HEIGHT)\n",
    "\n",
    "# Main loop\n",
    "running = True\n",
    "while running:\n",
    "    for event in pygame.event.get():\n",
    "        if event.type == pygame.QUIT:\n",
    "            running = False\n",
    "        elif event.type == pygame.KEYDOWN:\n",
    "            if event.key == pygame.K_1:\n",
    "                elevator.add_target_floor(0)\n",
    "            elif event.key == pygame.K_2:\n",
    "                elevator.add_target_floor(1)\n",
    "            elif event.key == pygame.K_3:\n",
    "                elevator.add_target_floor(2)\n",
    "            elif event.key == pygame.K_4:\n",
    "                elevator.add_target_floor(3)\n",
    "            elif event.key == pygame.K_5:\n",
    "                elevator.add_target_floor(4)\n",
    "            elif event.key == pygame.K_6:\n",
    "                elevator.add_target_floor(5)\n",
    "\n",
    "    # Update elevator\n",
    "    elevator.update()\n",
    "\n",
    "    # Draw everything\n",
    "    window.fill(WHITE)\n",
    "\n",
    "    # Draw floors\n",
    "    for i in range(NUM_FLOORS):\n",
    "        pygame.draw.line(window, GRAY, (0, HEIGHT - FLOOR_HEIGHT * (i + 1)), (WIDTH, HEIGHT - FLOOR_HEIGHT * (i + 1)), 2)\n",
    "        floor_label = pygame.font.Font(None, 36).render(f'Floor {i+1}', True, BLACK)\n",
    "        window.blit(floor_label, (10, HEIGHT - FLOOR_HEIGHT * (i + 1) + 10))\n",
    "\n",
    "    # Draw elevator\n",
    "    elevator.draw(window)\n",
    "\n",
    "    pygame.display.flip()\n",
    "    pygame.time.Clock().tick(60)\n",
    "\n",
    "pygame.quit()\n",
    "sys.exit()\n"
   ]
  },
  {
   "cell_type": "code",
   "execution_count": 1,
   "metadata": {},
   "outputs": [],
   "source": [
    "def draw_floor(surface, color, x, y, width, height):\n",
    "    pygame.draw.rect(surface, color, pygame.Rect(x, y, width, height))"
   ]
  },
  {
   "cell_type": "code",
   "execution_count": 1,
   "metadata": {},
   "outputs": [
    {
     "name": "stdout",
     "output_type": "stream",
     "text": [
      "pygame 2.5.2 (SDL 2.28.2, Python 3.10.12)\n",
      "Hello from the pygame community. https://www.pygame.org/contribute.html\n"
     ]
    },
    {
     "ename": "SystemExit",
     "evalue": "",
     "output_type": "error",
     "traceback": [
      "An exception has occurred, use %tb to see the full traceback.\n",
      "\u001b[0;31mSystemExit\u001b[0m\n"
     ]
    },
    {
     "name": "stderr",
     "output_type": "stream",
     "text": [
      "/home/mefathim89/.local/lib/python3.10/site-packages/IPython/core/interactiveshell.py:3585: UserWarning: To exit: use 'exit', 'quit', or Ctrl-D.\n",
      "  warn(\"To exit: use 'exit', 'quit', or Ctrl-D.\", stacklevel=1)\n"
     ]
    }
   ],
   "source": [
    "import pygame\n",
    "import sys\n",
    "\n",
    "# Initialize Pygame\n",
    "pygame.init()\n",
    "\n",
    "# Constants\n",
    "WIDTH, HEIGHT = 800, 600\n",
    "WHITE = (255, 255, 255)\n",
    "BLACK = (0, 0, 0)\n",
    "\n",
    "# Set up the display\n",
    "window = pygame.display.set_mode((WIDTH, HEIGHT))\n",
    "pygame.display.set_caption('Draw Rectangle Example')\n",
    "\n",
    "def draw_rectangle(surface, color, x, y, width, height):\n",
    "    \"\"\"\n",
    "    Draw a rectangle on the given surface with the specified parameters.\n",
    "\n",
    "    Parameters:\n",
    "    - surface: The surface to draw the rectangle on.\n",
    "    - color: The color of the rectangle (R, G, B).\n",
    "    - x: The x-coordinate of the top-left corner of the rectangle.\n",
    "    - y: The y-coordinate of the top-left corner of the rectangle.\n",
    "    - width: The width of the rectangle.\n",
    "    - height: The height of the rectangle.\n",
    "    \"\"\"\n",
    "    pygame.draw.rect(surface, color, pygame.Rect(x, y, width, height))\n",
    "\n",
    "# Main loop\n",
    "running = True\n",
    "while running:\n",
    "    for event in pygame.event.get():\n",
    "        if event.type == pygame.QUIT:\n",
    "            running = False\n",
    "\n",
    "    # Fill the window with white color\n",
    "    window.fill(WHITE)\n",
    "\n",
    "    # Draw rectangles\n",
    "    draw_rectangle(window, BLACK, 600, 0, 200, 100)\n",
    "   # draw_rectangle(window, BLACK, 300, 200, 150, 300)\n",
    "   # draw_rectangle(window, BLACK, 500, 100, 100, 200)\n",
    "\n",
    "    # Update the display\n",
    "    pygame.display.flip()\n",
    "\n",
    "pygame.quit()\n",
    "sys.exit()\n"
   ]
  },
  {
   "cell_type": "code",
   "execution_count": 2,
   "metadata": {},
   "outputs": [
    {
     "ename": "SystemExit",
     "evalue": "",
     "output_type": "error",
     "traceback": [
      "An exception has occurred, use %tb to see the full traceback.\n",
      "\u001b[0;31mSystemExit\u001b[0m\n"
     ]
    }
   ],
   "source": [
    "import pygame\n",
    "import sys\n",
    "\n",
    "# Initialize Pygame\n",
    "pygame.init()\n",
    "\n",
    "# Constants\n",
    "SCREEN_WIDTH, SCREEN_HEIGHT = 800, 600\n",
    "RECT_WIDTH, RECT_HEIGHT = 50, 30\n",
    "FLOORS = 5  # Number of floors\n",
    "PADDING = 10  # Space between rectangles\n",
    "\n",
    "# Set up the display\n",
    "screen = pygame.display.set_mode((SCREEN_WIDTH, SCREEN_HEIGHT))\n",
    "pygame.display.set_caption(\"Rectangles\")\n",
    "\n",
    "def draw_rectangles(screen, floors):\n",
    "    for floor in range(floors):\n",
    "        x = SCREEN_WIDTH // 2 - RECT_WIDTH // 2\n",
    "        y = SCREEN_HEIGHT - (floor + 1) * (RECT_HEIGHT + PADDING)\n",
    "        pygame.draw.rect(screen, (255, 0, 0), (x, y, RECT_WIDTH, RECT_HEIGHT))\n",
    "\n",
    "def main():\n",
    "    clock = pygame.time.Clock()\n",
    "\n",
    "    while True:\n",
    "        for event in pygame.event.get():\n",
    "            if event.type == pygame.QUIT:\n",
    "                pygame.quit()\n",
    "                sys.exit()\n",
    "\n",
    "        screen.fill((255, 255, 255))  # Fill the screen with white\n",
    "        draw_rectangles(screen, FLOORS)\n",
    "        \n",
    "        pygame.display.flip()\n",
    "        clock.tick(60)\n",
    "\n",
    "if __name__ == \"__main__\":\n",
    "    main()\n"
   ]
  },
  {
   "cell_type": "code",
   "execution_count": 4,
   "metadata": {},
   "outputs": [
    {
     "ename": "ModuleNotFoundError",
     "evalue": "No module named 'the_river_to_the_sea'",
     "output_type": "error",
     "traceback": [
      "\u001b[0;31m---------------------------------------------------------------------------\u001b[0m",
      "\u001b[0;31mModuleNotFoundError\u001b[0m                       Traceback (most recent call last)",
      "Cell \u001b[0;32mIn[4], line 1\u001b[0m\n\u001b[0;32m----> 1\u001b[0m \u001b[38;5;28;01mfrom\u001b[39;00m \u001b[38;5;21;01mthe_river_to_the_sea\u001b[39;00m \u001b[38;5;28;01mimport\u001b[39;00m balastin\n",
      "\u001b[0;31mModuleNotFoundError\u001b[0m: No module named 'the_river_to_the_sea'"
     ]
    }
   ],
   "source": [
    "from the_river_to_the_sea import balastin\n"
   ]
  }
 ],
 "metadata": {
  "kernelspec": {
   "display_name": "Python 3",
   "language": "python",
   "name": "python3"
  },
  "language_info": {
   "codemirror_mode": {
    "name": "ipython",
    "version": 3
   },
   "file_extension": ".py",
   "mimetype": "text/x-python",
   "name": "python",
   "nbconvert_exporter": "python",
   "pygments_lexer": "ipython3",
   "version": "3.10.12"
  }
 },
 "nbformat": 4,
 "nbformat_minor": 2
}
